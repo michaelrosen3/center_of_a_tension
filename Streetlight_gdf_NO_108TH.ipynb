{
 "cells": [
  {
   "cell_type": "code",
   "execution_count": 1,
   "id": "8feb56d1",
   "metadata": {},
   "outputs": [
    {
     "name": "stderr",
     "output_type": "stream",
     "text": [
      "/Users/michaelrosen/opt/anaconda3/lib/python3.9/site-packages/geopandas/_compat.py:111: UserWarning: The Shapely GEOS version (3.9.1-CAPI-1.14.2) is incompatible with the GEOS version PyGEOS was compiled with (3.10.2-CAPI-1.16.0). Conversions between both will be slow.\n",
      "  warnings.warn(\n"
     ]
    }
   ],
   "source": [
    "import geopandas as gpd\n",
    "import glob\n",
    "import pandas as pd\n",
    "import numpy as np\n",
    "import matplotlib.pyplot as plt"
   ]
  },
  {
   "cell_type": "code",
   "execution_count": 2,
   "id": "a9874609",
   "metadata": {},
   "outputs": [],
   "source": [
    "streets = gpd.GeoDataFrame()"
   ]
  },
  {
   "cell_type": "code",
   "execution_count": 3,
   "id": "b6d4c5e7",
   "metadata": {},
   "outputs": [],
   "source": [
    "file_list = glob.glob('*shp')"
   ]
  },
  {
   "cell_type": "code",
   "execution_count": 4,
   "id": "b7dc8373",
   "metadata": {},
   "outputs": [],
   "source": [
    "for file in file_list:\n",
    "    ds = gpd.read_file(file)\n",
    "    streets = gpd.GeoDataFrame(pd.concat([streets, ds], ignore_index=True))"
   ]
  },
  {
   "cell_type": "code",
   "execution_count": 5,
   "id": "0b25b4e7",
   "metadata": {},
   "outputs": [],
   "source": [
    "streets['adj_name'] = streets['name'].str.extract(r'^([^/]*)')"
   ]
  },
  {
   "cell_type": "code",
   "execution_count": 6,
   "id": "277f29fa",
   "metadata": {},
   "outputs": [],
   "source": [
    "streets['adj_name_2'] = streets['adj_name'].str.replace('(North|East|West|South)\\s', '', regex=True)\n",
    "streets['adj_name_2'] = streets['adj_name_2'].str.rstrip()"
   ]
  },
  {
   "cell_type": "code",
   "execution_count": 7,
   "id": "1b28f259",
   "metadata": {},
   "outputs": [],
   "source": [
    "crashes = pd.read_csv('/Users/michaelrosen/Desktop/Capstone/Crash .csvs/york_and_silverlake_crashes.csv')"
   ]
  },
  {
   "cell_type": "code",
   "execution_count": 8,
   "id": "71ff3808",
   "metadata": {},
   "outputs": [],
   "source": [
    "streets_list = ['YORK', 'BRONSON', 'AVENUE 64', 'REDONDO','4TH','RIMPAU','WABASH','TUJUNGA','EDGEMONT', 'CRESCENT HEIGHTS', 'GRIFFIN', '54TH','LINCOLN PARK','19TH', '108TH', '92ND','EVERGREEN','TOWNSEND','COLFAX', 'HAUSER', 'JEFFERSON','BEVERLY GLEN','8TH','STRATHERN','GOWER','SILVER LAKE', 'FULTON', 'WILTON', 'BURBANK','NATIONAL']"
   ]
  },
  {
   "cell_type": "code",
   "execution_count": 9,
   "id": "575c0ec7",
   "metadata": {},
   "outputs": [],
   "source": [
    "target_crs = 'EPSG:26911'\n",
    "streets = streets.to_crs(target_crs)\n",
    "distance=8\n",
    "streets['buffer_geom'] = streets.geometry.buffer(distance)"
   ]
  },
  {
   "cell_type": "code",
   "execution_count": 10,
   "id": "2446b0b7",
   "metadata": {},
   "outputs": [],
   "source": [
    "crashes_gdf = gpd.GeoDataFrame(\n",
    "    crashes, geometry=gpd.points_from_xy(crashes.POINT_X, crashes.POINT_Y))"
   ]
  },
  {
   "cell_type": "code",
   "execution_count": 11,
   "id": "a34fbb92",
   "metadata": {},
   "outputs": [],
   "source": [
    "crashes_gdf = crashes_gdf.set_crs(epsg=4326)"
   ]
  },
  {
   "cell_type": "code",
   "execution_count": 12,
   "id": "2757fa66",
   "metadata": {},
   "outputs": [],
   "source": [
    "crashes_gdf = crashes_gdf.to_crs(target_crs)"
   ]
  },
  {
   "cell_type": "code",
   "execution_count": 13,
   "id": "0b953927",
   "metadata": {},
   "outputs": [],
   "source": [
    "streets = streets[['adj_name_2', 'buffer_geom']]"
   ]
  },
  {
   "cell_type": "code",
   "execution_count": 14,
   "id": "41b90745",
   "metadata": {},
   "outputs": [],
   "source": [
    "streets_gdf = gpd.GeoDataFrame(streets, geometry='buffer_geom')"
   ]
  },
  {
   "cell_type": "code",
   "execution_count": 15,
   "id": "ae668f9d",
   "metadata": {},
   "outputs": [],
   "source": [
    "join = gpd.sjoin(streets_gdf, crashes_gdf, how='left', predicate='intersects')"
   ]
  },
  {
   "cell_type": "code",
   "execution_count": 16,
   "id": "833bfc08",
   "metadata": {},
   "outputs": [],
   "source": [
    "filtered_join = join[join['PRIMARY_RD'].str.contains('|'.join(streets_list), case=False, na=False)]"
   ]
  },
  {
   "cell_type": "code",
   "execution_count": 17,
   "id": "7f6106f5",
   "metadata": {},
   "outputs": [],
   "source": [
    "streets_dict = {\n",
    "    '2011-01-02': ['York Boulevard', 'Bronson Avenue', 'Avenue 64', 'Redondo Boulevard', '4th Street', 'Rimpau Boulevard', 'Wabash Avenue', 'Tujunga Avenue'],\n",
    "    '2015-08-06': ['Edgemont Street', 'Crescent Heights Boulevard', 'Griffin Avenue', '54th Street', 'Lincoln Park Avenue'],\n",
    "    '2019-09-09': ['19th Street', '108th Street', '92nd Street', 'Evergreen Avenue', 'Townsend Avenue'],\n",
    "    '2021-08-03': ['Colfax Avenue', 'Hauser Boulevard', 'Jefferson Boulevard', 'Beverly Glen Boulevard', '8th Street', 'Strathern Street', 'Gower Street'],\n",
    "    '2011-01-01': ['Silver Lake Boulevard', 'Fulton Avenue', 'Wilton Place', 'Burbank Boulevard', 'National Boulevard']\n",
    "}\n",
    "\n",
    "dates = pd.to_datetime(list(streets_dict.keys()))\n",
    "\n",
    "df = pd.DataFrame(columns=['adj_name_2', 'crash_counts', 'days_elapsed'])\n",
    "\n",
    "end_date = pd.Timestamp('2022-12-31')\n",
    "days_elapsed = (end_date - dates).days\n",
    "\n",
    "# Loop through dictionary and filter filtered_join DataFrame\n",
    "# Loop through dictionary and filter filtered_join DataFrame\n",
    "for date, streets in streets_dict.items():\n",
    "    filtered_data = filtered_join[(filtered_join['adj_name_2'].isin(streets)) & (pd.to_datetime(filtered_join['COLLISION_DATE']) > pd.to_datetime(date))]\n",
    "    counts = filtered_data['adj_name_2'].value_counts()\n",
    "    \n",
    "    # Add missing street names with zero counts\n",
    "    missing_streets = set(streets) - set(counts.index)\n",
    "    missing_counts = pd.Series(0, index=list(missing_streets))\n",
    "    counts = counts.append(missing_counts)\n",
    "    \n",
    "    counts_df = pd.DataFrame({'adj_name_2': counts.index, 'crash_counts': counts.values})\n",
    "    days_elapsed_df = pd.DataFrame({'days_elapsed': [days_elapsed[dates == pd.to_datetime(date)][0]] * len(counts)})\n",
    "    merged_df = pd.concat([counts_df, days_elapsed_df], axis=1)\n",
    "    df = pd.concat([df, merged_df], axis=0, ignore_index=True)\n"
   ]
  },
  {
   "cell_type": "code",
   "execution_count": 18,
   "id": "5c8effa9",
   "metadata": {},
   "outputs": [],
   "source": [
    "crash_counts = df"
   ]
  },
  {
   "cell_type": "code",
   "execution_count": 19,
   "id": "42f299a0",
   "metadata": {},
   "outputs": [],
   "source": [
    "fatal_severe_crashes = filtered_join[filtered_join['COLLISION_SEVERITY'].isin([1.0, 2.0])]"
   ]
  },
  {
   "cell_type": "code",
   "execution_count": 20,
   "id": "f45f9c7c",
   "metadata": {},
   "outputs": [],
   "source": [
    "new_df = pd.DataFrame(columns=['adj_name_2', 'fatal_severe_crash_counts', 'days_elapsed'])\n",
    "\n",
    "for date, streets in streets_dict.items():\n",
    "    filtered_data = fatal_severe_crashes[(fatal_severe_crashes['adj_name_2'].isin(streets)) & (pd.to_datetime(fatal_severe_crashes['COLLISION_DATE']) > pd.to_datetime(date))]\n",
    "    counts = filtered_data['adj_name_2'].value_counts()\n",
    "    counts_df = pd.DataFrame({'adj_name_2': streets})\n",
    "    counts_df['fatal_severe_crash_counts'] = counts_df['adj_name_2'].map(counts).fillna(0)\n",
    "    days_elapsed_df = pd.DataFrame({'days_elapsed': [days_elapsed[dates == pd.to_datetime(date)][0]] * len(streets)})\n",
    "    merged_df = pd.concat([counts_df, days_elapsed_df], axis=1)\n",
    "    new_df = pd.concat([new_df, merged_df], axis=0, ignore_index=True)\n"
   ]
  },
  {
   "cell_type": "code",
   "execution_count": 21,
   "id": "973ad738",
   "metadata": {},
   "outputs": [],
   "source": [
    "fatal_severe_crashes = new_df"
   ]
  },
  {
   "cell_type": "code",
   "execution_count": 22,
   "id": "e8ce1aff",
   "metadata": {},
   "outputs": [],
   "source": [
    "ped_bike_crashes = filtered_join[(filtered_join['PEDESTRIAN_ACCIDENT'] == 'Y') | (filtered_join['BICYCLE_ACCIDENT'] == 'Y')]"
   ]
  },
  {
   "cell_type": "code",
   "execution_count": 23,
   "id": "ba349353",
   "metadata": {},
   "outputs": [],
   "source": [
    "ped_bike_df = pd.DataFrame(columns=['adj_name_2', 'ped_crash_counts'])\n",
    "\n",
    "for date, streets in streets_dict.items():\n",
    "    filtered_data = ped_bike_crashes[(ped_bike_crashes['adj_name_2'].isin(streets)) & (pd.to_datetime(ped_bike_crashes['COLLISION_DATE']) > pd.to_datetime(date))]\n",
    "    counts = filtered_data['adj_name_2'].value_counts()\n",
    "    counts_df = pd.DataFrame({'adj_name_2': streets})\n",
    "    counts_df['ped_crash_counts'] = counts_df['adj_name_2'].map(counts).fillna(0)\n",
    "    merged_df = pd.concat([counts_df], axis=1)\n",
    "    ped_bike_df = pd.concat([ped_bike_df, merged_df], axis=0, ignore_index=True)\n"
   ]
  },
  {
   "cell_type": "code",
   "execution_count": 24,
   "id": "fae371f7",
   "metadata": {},
   "outputs": [],
   "source": [
    "AADT=pd.read_excel('/Users/michaelrosen/Desktop/Capstone/AADT_Counts/Streetlight_AADT_Counts_FINAL.xlsx')"
   ]
  },
  {
   "cell_type": "code",
   "execution_count": 25,
   "id": "4d331294",
   "metadata": {},
   "outputs": [],
   "source": [
    "all_crashes = crash_counts.merge(fatal_severe_crashes, on = 'adj_name_2',how='left')"
   ]
  },
  {
   "cell_type": "code",
   "execution_count": 26,
   "id": "8b36f3e6",
   "metadata": {},
   "outputs": [],
   "source": [
    "all_crashes = all_crashes.merge(ped_bike_df, on = 'adj_name_2',how='left')"
   ]
  },
  {
   "cell_type": "code",
   "execution_count": 27,
   "id": "536c4cb1",
   "metadata": {},
   "outputs": [],
   "source": [
    "all_crashes = all_crashes.merge(AADT,left_on = 'adj_name_2',right_on = 'Zone Name',how='left')"
   ]
  },
  {
   "cell_type": "code",
   "execution_count": 28,
   "id": "98f25961",
   "metadata": {},
   "outputs": [],
   "source": [
    "all_crashes['VMT'] = all_crashes['Miles']*all_crashes['AADT']*all_crashes['days_elapsed_x']\n",
    "all_crashes['crashes_per_million_VMT'] = all_crashes['crash_counts']/(all_crashes['VMT']/1000000)\n",
    "all_crashes['fatal_severe_crashes_per_million_VMT'] = all_crashes['fatal_severe_crash_counts']/(all_crashes['VMT']/1000000)\n",
    "all_crashes['bike_ped_crashes_per_million_VMT'] = all_crashes['ped_crash_counts']/(all_crashes['VMT']/1000000)"
   ]
  },
  {
   "cell_type": "code",
   "execution_count": 29,
   "id": "865b9099",
   "metadata": {},
   "outputs": [],
   "source": [
    "all_crashes = all_crashes.drop(all_crashes[all_crashes['adj_name_2'] == '108th Street'].index)"
   ]
  },
  {
   "cell_type": "code",
   "execution_count": 30,
   "id": "7822a114",
   "metadata": {},
   "outputs": [],
   "source": [
    "# Calculate the mean crash counts for the control and comparison corridors\n",
    "treatment_mean_total = all_crashes.loc[all_crashes['adj_name_2'].isin(['York Boulevard', 'Edgemont Street', '19th Street', 'Colfax Avenue', 'Silver Lake Boulevard']), 'crashes_per_million_VMT'].mean()\n",
    "comparison_mean_total = all_crashes.loc[~all_crashes['adj_name_2'].isin(['York Boulevard', 'Edgemont Street', '19th Street', 'Colfax Avenue', 'Silver Lake Boulevard']), 'crashes_per_million_VMT'].mean()\n",
    "\n",
    "# Calculate the percentage difference in means\n",
    "percent_diff_total = (comparison_mean_total - treatment_mean_total) / treatment_mean_total * 100\n"
   ]
  },
  {
   "cell_type": "code",
   "execution_count": 31,
   "id": "6dfc7516",
   "metadata": {},
   "outputs": [
    {
     "data": {
      "text/plain": [
       "1.4030231614355597"
      ]
     },
     "execution_count": 31,
     "metadata": {},
     "output_type": "execute_result"
    }
   ],
   "source": [
    "treatment_mean_total"
   ]
  },
  {
   "cell_type": "code",
   "execution_count": 32,
   "id": "38b30613",
   "metadata": {},
   "outputs": [
    {
     "data": {
      "text/plain": [
       "1.8485231133102218"
      ]
     },
     "execution_count": 32,
     "metadata": {},
     "output_type": "execute_result"
    }
   ],
   "source": [
    "comparison_mean_total"
   ]
  },
  {
   "cell_type": "code",
   "execution_count": 33,
   "id": "6a1f7892",
   "metadata": {},
   "outputs": [
    {
     "data": {
      "text/plain": [
       "31.75285797982343"
      ]
     },
     "execution_count": 33,
     "metadata": {},
     "output_type": "execute_result"
    }
   ],
   "source": [
    "percent_diff_total"
   ]
  },
  {
   "cell_type": "code",
   "execution_count": 34,
   "id": "44e6e784",
   "metadata": {},
   "outputs": [],
   "source": [
    "# Calculate the mean fatal/severe crash counts for the control and comparison corridors\n",
    "treatment_mean_fatal_severe = all_crashes.loc[all_crashes['adj_name_2'].isin(['York Boulevard', 'Edgemont Street', '19th Street', 'Colfax Avenue', 'Silver Lake Boulevard']), 'fatal_severe_crashes_per_million_VMT'].mean()\n",
    "comparison_mean_fatal_severe = all_crashes.loc[~all_crashes['adj_name_2'].isin(['York Boulevard', 'Edgemont Street', '19th Street', 'Colfax Avenue', 'Silver Lake Boulevard']), 'fatal_severe_crashes_per_million_VMT'].mean()\n",
    "\n",
    "# Calculate the percentage difference in means\n",
    "percent_diff_fatal_severe = (comparison_mean_fatal_severe - treatment_mean_fatal_severe) / treatment_mean_fatal_severe * 100\n"
   ]
  },
  {
   "cell_type": "code",
   "execution_count": 39,
   "id": "bad9cb02",
   "metadata": {},
   "outputs": [
    {
     "data": {
      "text/plain": [
       "0.21894431130377576"
      ]
     },
     "execution_count": 39,
     "metadata": {},
     "output_type": "execute_result"
    }
   ],
   "source": [
    "comparison_mean_fatal_severe"
   ]
  },
  {
   "cell_type": "code",
   "execution_count": 35,
   "id": "1776ecf0",
   "metadata": {},
   "outputs": [
    {
     "data": {
      "text/plain": [
       "53.36805096008288"
      ]
     },
     "execution_count": 35,
     "metadata": {},
     "output_type": "execute_result"
    }
   ],
   "source": [
    "percent_diff_fatal_severe"
   ]
  },
  {
   "cell_type": "code",
   "execution_count": 36,
   "id": "b5d8bb3f",
   "metadata": {},
   "outputs": [],
   "source": [
    "# Calculate the mean fatal/severe crash counts for the control and comparison corridors\n",
    "treatment_mean_ped_bike = all_crashes.loc[all_crashes['adj_name_2'].isin(['York Boulevard', 'Edgemont Street', '19th Street', 'Colfax Avenue', 'Silver Lake Boulevard']), 'bike_ped_crashes_per_million_VMT'].mean()\n",
    "comparison_mean_ped_bike = all_crashes.loc[~all_crashes['adj_name_2'].isin(['York Boulevard', 'Edgemont Street', '19th Street', 'Colfax Avenue', 'Silver Lake Boulevard']), 'bike_ped_crashes_per_million_VMT'].mean()\n",
    "\n",
    "# Calculate the percentage difference in means\n",
    "percent_diff_ped_bike = (comparison_mean_ped_bike - treatment_mean_ped_bike) / treatment_mean_ped_bike * 100\n"
   ]
  },
  {
   "cell_type": "code",
   "execution_count": 40,
   "id": "4412d359",
   "metadata": {},
   "outputs": [
    {
     "data": {
      "text/plain": [
       "0.48052919774512143"
      ]
     },
     "execution_count": 40,
     "metadata": {},
     "output_type": "execute_result"
    }
   ],
   "source": [
    "comparison_mean_ped_bike"
   ]
  },
  {
   "cell_type": "code",
   "execution_count": 37,
   "id": "66732488",
   "metadata": {},
   "outputs": [
    {
     "data": {
      "text/plain": [
       "9.376487927046215"
      ]
     },
     "execution_count": 37,
     "metadata": {},
     "output_type": "execute_result"
    }
   ],
   "source": [
    "percent_diff_ped_bike"
   ]
  },
  {
   "cell_type": "code",
   "execution_count": 38,
   "id": "f51ffd88",
   "metadata": {},
   "outputs": [
    {
     "data": {
      "image/png": "[encoded data removed]",
      "text/plain": [
       "<Figure size 432x288 with 1 Axes>"
      ]
     },
     "metadata": {
      "needs_background": "light"
     },
     "output_type": "display_data"
    }
   ],
   "source": [
    "corrcoef_data = all_crashes[all_crashes['CLOSEST'] != 'Treatment Corridor']\n",
    "\n",
    "# Convert 'crashes_per_million_VMT' and 'AADT' columns to floats for the filtered data\n",
    "crashes_per_million_VMT = corrcoef_data['crashes_per_million_VMT'].astype(float)\n",
    "AADT = corrcoef_data['AADT']\n",
    "\n",
    "# Calculate the correlation coefficient\n",
    "corr = np.corrcoef(crashes_per_million_VMT, AADT)[0, 1]\n",
    "\n",
    "# Create a scatter plot\n",
    "plt.scatter(crashes_per_million_VMT, AADT)\n",
    "plt.xlabel('Crashes per Million VMT')\n",
    "plt.ylabel('AADT')\n",
    "plt.title('AADT vs. crashes per million VMT, Control Streets')\n",
    "plt.savefig('AADT.png', dpi=300)\n"
   ]
  },
  {
   "cell_type": "code",
   "execution_count": null,
   "id": "4d877ce5",
   "metadata": {},
   "outputs": [],
   "source": []
  }
 ],
 "metadata": {
  "kernelspec": {
   "display_name": "Python 3 (ipykernel)",
   "language": "python",
   "name": "python3"
  },
  "language_info": {
   "codemirror_mode": {
    "name": "ipython",
    "version": 3
   },
   "file_extension": ".py",
   "mimetype": "text/x-python",
   "name": "python",
   "nbconvert_exporter": "python",
   "pygments_lexer": "ipython3",
   "version": "3.9.7"
  }
 },
 "nbformat": 4,
 "nbformat_minor": 5
}
